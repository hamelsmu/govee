{
 "cells": [
  {
   "cell_type": "code",
   "execution_count": 38,
   "id": "cd207928",
   "metadata": {},
   "outputs": [],
   "source": [
    "from fastcore.all import *\n",
    "import pandas as pd\n",
    "import numpy as np"
   ]
  },
  {
   "cell_type": "code",
   "execution_count": 39,
   "id": "4e4b269d",
   "metadata": {},
   "outputs": [
    {
     "name": "stdout",
     "output_type": "stream",
     "text": [
      "total 744\r\n",
      "drwx------@ 9 hamelsmu  staff   288B Aug 11 11:24 \u001b[1m\u001b[36m.\u001b[m\u001b[m\r\n",
      "drwxr-xr-x  8 hamelsmu  staff   256B Aug 11 11:24 \u001b[1m\u001b[36m..\u001b[m\u001b[m\r\n",
      "-rw-r--r--@ 1 hamelsmu  staff   6.0K Aug 11 10:12 .DS_Store\r\n",
      "-rw-r--r--@ 1 hamelsmu  staff   322K Aug 11 09:32 Lower Northeast_export_1628673600000.csv\r\n",
      "-rw-rw-r--@ 1 hamelsmu  staff   7.3K Aug 11 09:29 Lower Southeast_export_1628668800000.csv\r\n",
      "-rw-rw-r--@ 1 hamelsmu  staff   5.5K Aug 11 09:29 Lower Southwest_export_1628669280000.csv\r\n",
      "-rw-rw-r--@ 1 hamelsmu  staff   5.5K Aug 11 09:29 Outside_export_1628668980000.csv\r\n",
      "-rw-rw-r--@ 1 hamelsmu  staff   5.5K Aug 11 09:29 Upper East (Garage)_export_1628671920000.csv\r\n",
      "-rw-rw-r--@ 1 hamelsmu  staff   5.7K Aug 11 09:29 Upper West (Bedroom)_export_1628672340000.csv\r\n"
     ]
    }
   ],
   "source": [
    "!ls -lah ./data"
   ]
  },
  {
   "cell_type": "code",
   "execution_count": 40,
   "id": "d7a82499",
   "metadata": {},
   "outputs": [
    {
     "data": {
      "text/plain": [
       "(#6) [Path('data/Upper East (Garage)_export_1628671920000.csv'),Path('data/Outside_export_1628668980000.csv'),Path('data/Lower Southwest_export_1628669280000.csv'),Path('data/Lower Northeast_export_1628673600000.csv'),Path('data/Lower Southeast_export_1628668800000.csv'),Path('data/Upper West (Bedroom)_export_1628672340000.csv')]"
      ]
     },
     "execution_count": 40,
     "metadata": {},
     "output_type": "execute_result"
    }
   ],
   "source": [
    "files = Path('./data/').ls(file_exts='.csv')\n",
    "files"
   ]
  },
  {
   "cell_type": "code",
   "execution_count": 42,
   "id": "218b24ba",
   "metadata": {},
   "outputs": [],
   "source": [
    "def parse(file):\n",
    "    df = pd.read_csv(file, usecols=[0,1,2], skiprows=1, \n",
    "                      header=None, parse_dates=True, index_col=0,\n",
    "                      names=['time', 'temp', 'humidity']).resample('H').mean().reset_index()\n",
    "\n",
    "    df['location'] = file.name.split('_export')[0]\n",
    "    return df"
   ]
  },
  {
   "cell_type": "code",
   "execution_count": 43,
   "id": "ea8d1b70",
   "metadata": {},
   "outputs": [],
   "source": [
    "combined = pd.concat([parse(f) for f in files])"
   ]
  },
  {
   "cell_type": "code",
   "execution_count": 44,
   "id": "7cb6350d",
   "metadata": {},
   "outputs": [],
   "source": [
    "combined.to_csv('combined.csv', index=False)"
   ]
  },
  {
   "cell_type": "code",
   "execution_count": 45,
   "id": "0015b2d7",
   "metadata": {},
   "outputs": [],
   "source": [
    "! open ."
   ]
  },
  {
   "cell_type": "code",
   "execution_count": null,
   "id": "62705078",
   "metadata": {},
   "outputs": [],
   "source": []
  }
 ],
 "metadata": {
  "kernelspec": {
   "display_name": "Python 3",
   "language": "python",
   "name": "python3"
  },
  "language_info": {
   "codemirror_mode": {
    "name": "ipython",
    "version": 3
   },
   "file_extension": ".py",
   "mimetype": "text/x-python",
   "name": "python",
   "nbconvert_exporter": "python",
   "pygments_lexer": "ipython3",
   "version": "3.8.3"
  }
 },
 "nbformat": 4,
 "nbformat_minor": 5
}
